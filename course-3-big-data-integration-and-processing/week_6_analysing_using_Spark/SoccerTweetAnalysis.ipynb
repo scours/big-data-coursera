{
 "cells": [
  {
   "cell_type": "code",
   "execution_count": 1,
   "metadata": {
    "collapsed": true
   },
   "outputs": [],
   "source": [
    "# Import and create a new SQLContext \n",
    "from pyspark.sql import SQLContext\n",
    "sqlContext = SQLContext(sc)"
   ]
  },
  {
   "cell_type": "code",
   "execution_count": 2,
   "metadata": {
    "collapsed": false
   },
   "outputs": [],
   "source": [
    "# Read the country CSV file into an RDD.\n",
    "country_lines = sc.textFile('file:///home/cloudera/Downloads/big-data-3/final-project/country-list.csv')"
   ]
  },
  {
   "cell_type": "code",
   "execution_count": 3,
   "metadata": {
    "collapsed": false
   },
   "outputs": [],
   "source": [
    "# Convert each line into a pair of words\n",
    "country_pairs = country_lines.map(lambda line: line.split(\",\"))"
   ]
  },
  {
   "cell_type": "code",
   "execution_count": 4,
   "metadata": {
    "collapsed": false
   },
   "outputs": [
    {
     "data": {
      "text/plain": [
       "['Afghanistan, AFG',\n",
       " 'Albania, ALB',\n",
       " 'Algeria, ALG',\n",
       " 'American Samoa, ASA',\n",
       " 'Andorra, AND']"
      ]
     },
     "execution_count": 4,
     "metadata": {},
     "output_type": "execute_result"
    }
   ],
   "source": [
    "country_lines.take(5)"
   ]
  },
  {
   "cell_type": "code",
   "execution_count": 5,
   "metadata": {
    "collapsed": false
   },
   "outputs": [
    {
     "data": {
      "text/plain": [
       "[['Afghanistan', ' AFG'],\n",
       " ['Albania', ' ALB'],\n",
       " ['Algeria', ' ALG'],\n",
       " ['American Samoa', ' ASA'],\n",
       " ['Andorra', ' AND']]"
      ]
     },
     "execution_count": 5,
     "metadata": {},
     "output_type": "execute_result"
    }
   ],
   "source": [
    "country_pairs.take(5)"
   ]
  },
  {
   "cell_type": "code",
   "execution_count": 6,
   "metadata": {
    "collapsed": false
   },
   "outputs": [],
   "source": [
    "# Convert each pair of words into a tuple\n",
    "country_tuples = country_pairs.map(lambda array: (array[0], array[1]))"
   ]
  },
  {
   "cell_type": "code",
   "execution_count": 7,
   "metadata": {
    "collapsed": false
   },
   "outputs": [
    {
     "data": {
      "text/plain": [
       "[('Afghanistan', ' AFG'),\n",
       " ('Albania', ' ALB'),\n",
       " ('Algeria', ' ALG'),\n",
       " ('American Samoa', ' ASA'),\n",
       " ('Andorra', ' AND')]"
      ]
     },
     "execution_count": 7,
     "metadata": {},
     "output_type": "execute_result"
    }
   ],
   "source": [
    "country_tuples.take(5)"
   ]
  },
  {
   "cell_type": "code",
   "execution_count": 8,
   "metadata": {
    "collapsed": false
   },
   "outputs": [
    {
     "name": "stdout",
     "output_type": "stream",
     "text": [
      "root\n",
      " |-- country: string (nullable = true)\n",
      " |-- code: string (nullable = true)\n",
      "\n"
     ]
    },
    {
     "data": {
      "text/plain": [
       "[Row(country='Afghanistan', code=' AFG'),\n",
       " Row(country='Albania', code=' ALB'),\n",
       " Row(country='Algeria', code=' ALG')]"
      ]
     },
     "execution_count": 8,
     "metadata": {},
     "output_type": "execute_result"
    }
   ],
   "source": [
    "# Create the DataFrame, look at schema and contents\n",
    "countryDF = sqlContext.createDataFrame(country_tuples, [\"country\", \"code\"])\n",
    "countryDF.printSchema()\n",
    "countryDF.take(3)"
   ]
  },
  {
   "cell_type": "code",
   "execution_count": 9,
   "metadata": {
    "collapsed": false
   },
   "outputs": [],
   "source": [
    "# Read tweets CSV file into RDD of lines\n",
    "tweets_rdd = sc.textFile('file:///home/cloudera/Downloads/big-data-3/mongodb/tweet_textFieldData.csv')"
   ]
  },
  {
   "cell_type": "code",
   "execution_count": 10,
   "metadata": {
    "collapsed": false
   },
   "outputs": [
    {
     "data": {
      "text/plain": [
       "13995"
      ]
     },
     "execution_count": 10,
     "metadata": {},
     "output_type": "execute_result"
    }
   ],
   "source": [
    "tweets_rdd.count()"
   ]
  },
  {
   "cell_type": "code",
   "execution_count": 11,
   "metadata": {
    "collapsed": false
   },
   "outputs": [
    {
     "data": {
      "text/plain": [
       "['tweet_text',\n",
       " 'RT @ochocinco: I beat them all for 10 straight hours #FIFA16KING  https://t.co/BFnV6jfkBL',\n",
       " 'RT @NiallOfficial: @Louis_Tomlinson @socceraid when I retired from playing because of my knee . I went and did my uefa A badges in Dublin']"
      ]
     },
     "execution_count": 11,
     "metadata": {},
     "output_type": "execute_result"
    }
   ],
   "source": [
    "tweets_rdd.take(3)"
   ]
  },
  {
   "cell_type": "code",
   "execution_count": 12,
   "metadata": {
    "collapsed": false
   },
   "outputs": [],
   "source": [
    "# Clean the data: some tweets are empty. Remove the empty tweets using filter() \n",
    "filtered_tweets = tweets_rdd.filter(lambda x: len(x) > 0 )"
   ]
  },
  {
   "cell_type": "code",
   "execution_count": 13,
   "metadata": {
    "collapsed": false
   },
   "outputs": [
    {
     "data": {
      "text/plain": [
       "13391"
      ]
     },
     "execution_count": 13,
     "metadata": {},
     "output_type": "execute_result"
    }
   ],
   "source": [
    "filtered_tweets.count()"
   ]
  },
  {
   "cell_type": "code",
   "execution_count": 14,
   "metadata": {
    "collapsed": false
   },
   "outputs": [
    {
     "data": {
      "text/plain": [
       "['tweet_text',\n",
       " 'RT @ochocinco: I beat them all for 10 straight hours #FIFA16KING  https://t.co/BFnV6jfkBL',\n",
       " 'RT @NiallOfficial: @Louis_Tomlinson @socceraid when I retired from playing because of my knee . I went and did my uefa A badges in Dublin',\n",
       " 'RT @GameSeek: Follow & Retweet for your chance to win a copy of FIFA 17 Deluxe Edition (platform of your choice) in our #giveaway! https://…',\n",
       " '@CIVARAGI ...I was putting ffs but it autocorrected it too FIFA',\n",
       " \"RT @GeniusFootball: You know it's FIFA... https://t.co/tLK6sTnPaM\",\n",
       " '\"RT @WeahsCousin: \"\"Pogba isn\\'t worth £100million.\"\"',\n",
       " 'Thanks Dean, the £500 you\\'ve spent on FIFA Ultimate Team probably wasn\\'t worth it either.\"',\n",
       " '\"RT @WeahsCousin: \"\"Pogba isn\\'t worth £100million.\"\"',\n",
       " 'Thanks Dean, the £500 you\\'ve spent on FIFA Ultimate Team probably wasn\\'t worth it either.\"',\n",
       " 'New on eBay! XBOX 360 Game FIFA 16 2016 https://t.co/xicyLOE6aQ https://t.co/uw9OLrie4e',\n",
       " 'damn basti just ruined karl on fifa again',\n",
       " 'RT @as_shahid12: Anybody can catch the work in FIFA⚽️',\n",
       " 'Anyone Loves Poo Wine? https://t.co/0GLv7I0IqQ https://t.co/OEXXMSz4NN #BBC #CNN #Reuters #AP #ABC #NBC #CBS #NYT #FIFA #Deutschland #USA',\n",
       " '\"RT @WeahsCousin: \"\"Pogba isn\\'t worth £100million.\"\"',\n",
       " 'Thanks Dean, the £500 you\\'ve spent on FIFA Ultimate Team probably wasn\\'t worth it either.\"',\n",
       " 'RT @ochocinco: I beat them all for 10 straight hours #FIFA16KING  https://t.co/BFnV6jfkBL',\n",
       " 'RT @RobHarris: IOC withdrawing support for sporting events in Russia sharpens scrutiny on FIFA staging 2018 World Cup in Russia  https://t.…',\n",
       " '\"RT @WeahsCousin: \"\"Pogba isn\\'t worth £100million.\"\"',\n",
       " 'Thanks Dean, the £500 you\\'ve spent on FIFA Ultimate Team probably wasn\\'t worth it either.\"']"
      ]
     },
     "execution_count": 14,
     "metadata": {},
     "output_type": "execute_result"
    }
   ],
   "source": [
    "filtered_tweets.take(20)"
   ]
  },
  {
   "cell_type": "code",
   "execution_count": 15,
   "metadata": {
    "collapsed": false
   },
   "outputs": [],
   "source": [
    "# Perform WordCount on the cleaned tweet texts. (note: this is several lines.)\n",
    "words = filtered_tweets.flatMap(lambda line: line.split(\" \"))"
   ]
  },
  {
   "cell_type": "code",
   "execution_count": 16,
   "metadata": {
    "collapsed": false
   },
   "outputs": [
    {
     "data": {
      "text/plain": [
       "['tweet_text',\n",
       " 'RT',\n",
       " '@ochocinco:',\n",
       " 'I',\n",
       " 'beat',\n",
       " 'them',\n",
       " 'all',\n",
       " 'for',\n",
       " '10',\n",
       " 'straight',\n",
       " 'hours',\n",
       " '#FIFA16KING',\n",
       " '',\n",
       " 'https://t.co/BFnV6jfkBL',\n",
       " 'RT',\n",
       " '@NiallOfficial:',\n",
       " '@Louis_Tomlinson',\n",
       " '@socceraid',\n",
       " 'when',\n",
       " 'I',\n",
       " 'retired',\n",
       " 'from',\n",
       " 'playing',\n",
       " 'because',\n",
       " 'of',\n",
       " 'my',\n",
       " 'knee',\n",
       " '.',\n",
       " 'I',\n",
       " 'went']"
      ]
     },
     "execution_count": 16,
     "metadata": {},
     "output_type": "execute_result"
    }
   ],
   "source": [
    "words.take(30)"
   ]
  },
  {
   "cell_type": "code",
   "execution_count": 17,
   "metadata": {
    "collapsed": true
   },
   "outputs": [],
   "source": [
    "word_tuples = words.map(lambda word: (word,1))"
   ]
  },
  {
   "cell_type": "code",
   "execution_count": 18,
   "metadata": {
    "collapsed": false
   },
   "outputs": [
    {
     "data": {
      "text/plain": [
       "[('tweet_text', 1),\n",
       " ('RT', 1),\n",
       " ('@ochocinco:', 1),\n",
       " ('I', 1),\n",
       " ('beat', 1),\n",
       " ('them', 1),\n",
       " ('all', 1),\n",
       " ('for', 1),\n",
       " ('10', 1),\n",
       " ('straight', 1),\n",
       " ('hours', 1),\n",
       " ('#FIFA16KING', 1),\n",
       " ('', 1),\n",
       " ('https://t.co/BFnV6jfkBL', 1),\n",
       " ('RT', 1),\n",
       " ('@NiallOfficial:', 1),\n",
       " ('@Louis_Tomlinson', 1),\n",
       " ('@socceraid', 1),\n",
       " ('when', 1),\n",
       " ('I', 1)]"
      ]
     },
     "execution_count": 18,
     "metadata": {},
     "output_type": "execute_result"
    }
   ],
   "source": [
    "word_tuples.take(20)"
   ]
  },
  {
   "cell_type": "code",
   "execution_count": 19,
   "metadata": {
    "collapsed": true
   },
   "outputs": [],
   "source": [
    "word_counts = word_tuples.reduceByKey(lambda a, b: (a + b))"
   ]
  },
  {
   "cell_type": "code",
   "execution_count": 20,
   "metadata": {
    "collapsed": false
   },
   "outputs": [
    {
     "data": {
      "text/plain": [
       "[('', 3292),\n",
       " ('mobile', 1),\n",
       " ('#FridayNightTouchdown', 1),\n",
       " ('Just', 44),\n",
       " ('BONUSES,', 1),\n",
       " ('like?\"', 1),\n",
       " ('recieve', 1),\n",
       " ('Bellow', 1),\n",
       " ('now\"', 1),\n",
       " ('https://t.co/W4QluWGyeq', 1),\n",
       " ('https://t.co/Jii7MfUgDj', 1),\n",
       " ('review', 1),\n",
       " ('Can', 37),\n",
       " ('https://t.co/UBBj3iS0cI', 1),\n",
       " ('@MattHDGamer', 1),\n",
       " ('https://t.co/k1ojzXbzG0', 1),\n",
       " ('ago\"', 1),\n",
       " ('GERMANY', 1),\n",
       " ('Revolutionary', 1),\n",
       " ('https://t.co/1zmlxb0NuL', 1)]"
      ]
     },
     "execution_count": 20,
     "metadata": {},
     "output_type": "execute_result"
    }
   ],
   "source": [
    "word_counts.take(20)"
   ]
  },
  {
   "cell_type": "code",
   "execution_count": 21,
   "metadata": {
    "collapsed": false
   },
   "outputs": [
    {
     "name": "stdout",
     "output_type": "stream",
     "text": [
      "root\n",
      " |-- country: string (nullable = true)\n",
      " |-- counts: long (nullable = true)\n",
      "\n"
     ]
    },
    {
     "data": {
      "text/plain": [
       "[Row(country='', counts=3292),\n",
       " Row(country='mobile', counts=1),\n",
       " Row(country='#FridayNightTouchdown', counts=1),\n",
       " Row(country='Just', counts=44),\n",
       " Row(country='BONUSES,', counts=1),\n",
       " Row(country='like?\"', counts=1),\n",
       " Row(country='recieve', counts=1),\n",
       " Row(country='Bellow', counts=1),\n",
       " Row(country='now\"', counts=1),\n",
       " Row(country='https://t.co/W4QluWGyeq', counts=1)]"
      ]
     },
     "execution_count": 21,
     "metadata": {},
     "output_type": "execute_result"
    }
   ],
   "source": [
    "# Create the DataFrame of tweet word counts look at schema and contents\n",
    "WordCountsDF = sqlContext.createDataFrame(word_counts, [\"country\", \"counts\"])\n",
    "WordCountsDF.printSchema()\n",
    "WordCountsDF.take(10)"
   ]
  },
  {
   "cell_type": "code",
   "execution_count": 22,
   "metadata": {
    "collapsed": false
   },
   "outputs": [],
   "source": [
    "# Join the country and tweet data frames (on the appropriate column)\n",
    "mergedData = WordCountsDF.join(countryDF, 'country')"
   ]
  },
  {
   "cell_type": "code",
   "execution_count": 23,
   "metadata": {
    "collapsed": false
   },
   "outputs": [
    {
     "name": "stdout",
     "output_type": "stream",
     "text": [
      "+--------+------+----+\n",
      "| country|counts|code|\n",
      "+--------+------+----+\n",
      "|Thailand|     1| THA|\n",
      "| Iceland|     2| ISL|\n",
      "|  Mexico|     1| MEX|\n",
      "|   Wales|    19| WAL|\n",
      "| Denmark|     1| DEN|\n",
      "|   India|     4| IND|\n",
      "|Portugal|     8| POR|\n",
      "|  Poland|     1| POL|\n",
      "|  Norway|    52| NOR|\n",
      "|  Guinea|     8| GUI|\n",
      "+--------+------+----+\n",
      "only showing top 10 rows\n",
      "\n"
     ]
    }
   ],
   "source": [
    "mergedData.show(10)"
   ]
  },
  {
   "cell_type": "code",
   "execution_count": 24,
   "metadata": {
    "collapsed": false
   },
   "outputs": [
    {
     "data": {
      "text/plain": [
       "44"
      ]
     },
     "execution_count": 24,
     "metadata": {},
     "output_type": "execute_result"
    }
   ],
   "source": [
    "# Question 1: number of distinct countries mentioned\n",
    "mergedData.distinct().count()"
   ]
  },
  {
   "cell_type": "code",
   "execution_count": 25,
   "metadata": {
    "collapsed": false
   },
   "outputs": [
    {
     "name": "stdout",
     "output_type": "stream",
     "text": [
      "+-----------+\n",
      "|sum(counts)|\n",
      "+-----------+\n",
      "|        397|\n",
      "+-----------+\n",
      "\n"
     ]
    }
   ],
   "source": [
    "# Question 2: number of countries mentioned in tweets.\n",
    "from pyspark.sql.functions import sum\n",
    "mergedData.select(sum('counts')).show()"
   ]
  },
  {
   "cell_type": "code",
   "execution_count": 26,
   "metadata": {
    "collapsed": false
   },
   "outputs": [
    {
     "name": "stdout",
     "output_type": "stream",
     "text": [
      "+-------+------+----+\n",
      "|country|counts|code|\n",
      "+-------+------+----+\n",
      "| Norway|    52| NOR|\n",
      "|Nigeria|    49| NGA|\n",
      "| France|    42| FRA|\n",
      "+-------+------+----+\n",
      "only showing top 3 rows\n",
      "\n"
     ]
    }
   ],
   "source": [
    "# Question 3: top three countries and their counts.\n",
    "from pyspark.sql.functions import desc\n",
    "mergedData.sort(desc('counts')).show(3)"
   ]
  },
  {
   "cell_type": "code",
   "execution_count": 27,
   "metadata": {
    "collapsed": false
   },
   "outputs": [
    {
     "name": "stdout",
     "output_type": "stream",
     "text": [
      "+-------+------+----+\n",
      "|country|counts|code|\n",
      "+-------+------+----+\n",
      "|Iceland|     2| ISL|\n",
      "|  Wales|    19| WAL|\n",
      "|  Japan|     5| JPN|\n",
      "+-------+------+----+\n",
      "\n"
     ]
    }
   ],
   "source": [
    "# Table 1: counts for Wales, Iceland, and Japan.\n",
    "mergedData.filter((mergedData[\"country\"] == \"Wales\") \n",
    "                  | (mergedData[\"country\"] == \"Iceland\")\n",
    "                  | (mergedData[\"country\"] == \"Japan\")).show()"
   ]
  },
  {
   "cell_type": "code",
   "execution_count": 28,
   "metadata": {
    "collapsed": false
   },
   "outputs": [
    {
     "name": "stdout",
     "output_type": "stream",
     "text": [
      "+-------+------+----+\n",
      "|country|counts|code|\n",
      "+-------+------+----+\n",
      "| France|    42| FRA|\n",
      "+-------+------+----+\n",
      "\n"
     ]
    }
   ],
   "source": [
    "# Question 4:how many times was France mentioned?\n",
    "mergedData.filter(mergedData[\"country\"] == \"France\").show()"
   ]
  },
  {
   "cell_type": "code",
   "execution_count": 29,
   "metadata": {
    "collapsed": false
   },
   "outputs": [
    {
     "name": "stdout",
     "output_type": "stream",
     "text": [
      "+-----------+------+----+\n",
      "|    country|counts|code|\n",
      "+-----------+------+----+\n",
      "|      Wales|    19| WAL|\n",
      "|Netherlands|    13| NED|\n",
      "|      Kenya|     3| KEN|\n",
      "+-----------+------+----+\n",
      "\n"
     ]
    }
   ],
   "source": [
    "#Question 5: Which country has the most mentions: Kenya, Wales, or Netherlands?\n",
    "mergedData.filter((mergedData[\"country\"] == \"Wales\") \n",
    "                  | (mergedData[\"country\"] == \"Kenya\")\n",
    "                  | (mergedData[\"country\"] == \"Netherlands\")).show()"
   ]
  },
  {
   "cell_type": "code",
   "execution_count": 30,
   "metadata": {
    "collapsed": false
   },
   "outputs": [
    {
     "name": "stdout",
     "output_type": "stream",
     "text": [
      "+-----------------+\n",
      "|      avg(counts)|\n",
      "+-----------------+\n",
      "|9.022727272727273|\n",
      "+-----------------+\n",
      "\n"
     ]
    }
   ],
   "source": [
    "#Question 6: Finally, what is the average number of times a country is mentioned?\n",
    "from pyspark.sql.functions import mean\n",
    "mergedData.select(mean('counts')).show()"
   ]
  },
  {
   "cell_type": "code",
   "execution_count": null,
   "metadata": {
    "collapsed": true
   },
   "outputs": [],
   "source": []
  }
 ],
 "metadata": {
  "kernelspec": {
   "display_name": "Python 3",
   "language": "python",
   "name": "python3"
  },
  "language_info": {
   "codemirror_mode": {
    "name": "ipython",
    "version": 3
   },
   "file_extension": ".py",
   "mimetype": "text/x-python",
   "name": "python",
   "nbconvert_exporter": "python",
   "pygments_lexer": "ipython3",
   "version": "3.5.1"
  }
 },
 "nbformat": 4,
 "nbformat_minor": 0
}
